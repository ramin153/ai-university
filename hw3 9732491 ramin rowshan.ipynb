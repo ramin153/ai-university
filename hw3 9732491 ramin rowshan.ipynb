{
 "cells": [
  {
   "cell_type": "code",
   "execution_count": 32,
   "metadata": {},
   "outputs": [],
   "source": [
    "#ramin rowshan 9732491\n",
    "\n",
    "\n",
    "# !pip install numpy\n",
    "# !pip install pandas\n",
    "# !pip install matplotlib\n",
    "# !pip install scikit-learn\n",
    "\n",
    "\n"
   ]
  },
  {
   "cell_type": "markdown",
   "metadata": {},
   "source": [
    "### Import pandas, numpy, matplotlib and sklearn"
   ]
  },
  {
   "cell_type": "code",
   "execution_count": 33,
   "metadata": {},
   "outputs": [],
   "source": [
    "import pandas as pd\n",
    "import numpy as np\n",
    "import matplotlib.pyplot as plt\n",
    "import sklearn\n",
    "from sklearn.model_selection import train_test_split\n"
   ]
  },
  {
   "cell_type": "code",
   "execution_count": null,
   "metadata": {},
   "outputs": [],
   "source": []
  },
  {
   "cell_type": "markdown",
   "metadata": {},
   "source": [
    "### Importing dataset to your code\n",
    "1. read .csv file by pandas library\n",
    "2. use **describe()** and **head()** functions look over dataset\n",
    "3. plot **mean** and **variance** of data"
   ]
  },
  {
   "cell_type": "code",
   "execution_count": 34,
   "metadata": {},
   "outputs": [],
   "source": [
    "df = pd.read_csv(\"bmi.csv\")"
   ]
  },
  {
   "cell_type": "code",
   "execution_count": 35,
   "metadata": {},
   "outputs": [
    {
     "data": {
      "text/html": [
       "<div>\n",
       "<style scoped>\n",
       "    .dataframe tbody tr th:only-of-type {\n",
       "        vertical-align: middle;\n",
       "    }\n",
       "\n",
       "    .dataframe tbody tr th {\n",
       "        vertical-align: top;\n",
       "    }\n",
       "\n",
       "    .dataframe thead th {\n",
       "        text-align: right;\n",
       "    }\n",
       "</style>\n",
       "<table border=\"1\" class=\"dataframe\">\n",
       "  <thead>\n",
       "    <tr style=\"text-align: right;\">\n",
       "      <th></th>\n",
       "      <th>Unnamed: 0</th>\n",
       "      <th>0</th>\n",
       "    </tr>\n",
       "  </thead>\n",
       "  <tbody>\n",
       "    <tr>\n",
       "      <th>0</th>\n",
       "      <td>0</td>\n",
       "      <td>0.061696</td>\n",
       "    </tr>\n",
       "    <tr>\n",
       "      <th>1</th>\n",
       "      <td>1</td>\n",
       "      <td>-0.051474</td>\n",
       "    </tr>\n",
       "    <tr>\n",
       "      <th>2</th>\n",
       "      <td>2</td>\n",
       "      <td>0.044451</td>\n",
       "    </tr>\n",
       "    <tr>\n",
       "      <th>3</th>\n",
       "      <td>3</td>\n",
       "      <td>-0.011595</td>\n",
       "    </tr>\n",
       "    <tr>\n",
       "      <th>4</th>\n",
       "      <td>4</td>\n",
       "      <td>-0.036385</td>\n",
       "    </tr>\n",
       "  </tbody>\n",
       "</table>\n",
       "</div>"
      ],
      "text/plain": [
       "   Unnamed: 0         0\n",
       "0           0  0.061696\n",
       "1           1 -0.051474\n",
       "2           2  0.044451\n",
       "3           3 -0.011595\n",
       "4           4 -0.036385"
      ]
     },
     "execution_count": 35,
     "metadata": {},
     "output_type": "execute_result"
    }
   ],
   "source": [
    "df.head()"
   ]
  },
  {
   "cell_type": "code",
   "execution_count": 36,
   "metadata": {},
   "outputs": [
    {
     "data": {
      "text/html": [
       "<div>\n",
       "<style scoped>\n",
       "    .dataframe tbody tr th:only-of-type {\n",
       "        vertical-align: middle;\n",
       "    }\n",
       "\n",
       "    .dataframe tbody tr th {\n",
       "        vertical-align: top;\n",
       "    }\n",
       "\n",
       "    .dataframe thead th {\n",
       "        text-align: right;\n",
       "    }\n",
       "</style>\n",
       "<table border=\"1\" class=\"dataframe\">\n",
       "  <thead>\n",
       "    <tr style=\"text-align: right;\">\n",
       "      <th></th>\n",
       "      <th>Unnamed: 0</th>\n",
       "      <th>0</th>\n",
       "    </tr>\n",
       "  </thead>\n",
       "  <tbody>\n",
       "    <tr>\n",
       "      <th>count</th>\n",
       "      <td>442.000000</td>\n",
       "      <td>4.420000e+02</td>\n",
       "    </tr>\n",
       "    <tr>\n",
       "      <th>mean</th>\n",
       "      <td>220.500000</td>\n",
       "      <td>-8.042209e-16</td>\n",
       "    </tr>\n",
       "    <tr>\n",
       "      <th>std</th>\n",
       "      <td>127.738666</td>\n",
       "      <td>4.761905e-02</td>\n",
       "    </tr>\n",
       "    <tr>\n",
       "      <th>min</th>\n",
       "      <td>0.000000</td>\n",
       "      <td>-9.027530e-02</td>\n",
       "    </tr>\n",
       "    <tr>\n",
       "      <th>25%</th>\n",
       "      <td>110.250000</td>\n",
       "      <td>-3.422907e-02</td>\n",
       "    </tr>\n",
       "    <tr>\n",
       "      <th>50%</th>\n",
       "      <td>220.500000</td>\n",
       "      <td>-7.283766e-03</td>\n",
       "    </tr>\n",
       "    <tr>\n",
       "      <th>75%</th>\n",
       "      <td>330.750000</td>\n",
       "      <td>3.124802e-02</td>\n",
       "    </tr>\n",
       "    <tr>\n",
       "      <th>max</th>\n",
       "      <td>441.000000</td>\n",
       "      <td>1.705552e-01</td>\n",
       "    </tr>\n",
       "  </tbody>\n",
       "</table>\n",
       "</div>"
      ],
      "text/plain": [
       "       Unnamed: 0             0\n",
       "count  442.000000  4.420000e+02\n",
       "mean   220.500000 -8.042209e-16\n",
       "std    127.738666  4.761905e-02\n",
       "min      0.000000 -9.027530e-02\n",
       "25%    110.250000 -3.422907e-02\n",
       "50%    220.500000 -7.283766e-03\n",
       "75%    330.750000  3.124802e-02\n",
       "max    441.000000  1.705552e-01"
      ]
     },
     "execution_count": 36,
     "metadata": {},
     "output_type": "execute_result"
    }
   ],
   "source": [
    "df.describe()"
   ]
  },
  {
   "cell_type": "code",
   "execution_count": 37,
   "metadata": {},
   "outputs": [
    {
     "data": {
      "text/plain": [
       "[<matplotlib.lines.Line2D at 0x272b1ce0130>]"
      ]
     },
     "execution_count": 37,
     "metadata": {},
     "output_type": "execute_result"
    },
    {
     "data": {
      "image/png": "[encoded data removed]",
      "text/plain": [
       "<Figure size 432x288 with 1 Axes>"
      ]
     },
     "metadata": {
      "needs_background": "light"
     },
     "output_type": "display_data"
    }
   ],
   "source": [
    "df_np = np.array(df)\n",
    "df_mean = np.mean(df_np,axis=0)\n",
    "df_var = np.var(df_np,axis=0)\n",
    "feature_var = [ ((i - df_mean[1])**2 )/len(df_np) for i in df_np[:,1] ]\n",
    "plt.plot(df_np[:,1],feature_var,color=\"blue\",linestyle=' ',marker='o')\n",
    "\n"
   ]
  },
  {
   "cell_type": "code",
   "execution_count": 38,
   "metadata": {},
   "outputs": [
    {
     "data": {
      "text/plain": [
       "[<matplotlib.lines.Line2D at 0x272b0903850>]"
      ]
     },
     "execution_count": 38,
     "metadata": {},
     "output_type": "execute_result"
    },
    {
     "data": {
      "image/png": "[encoded data removed]",
      "text/plain": [
       "<Figure size 432x288 with 1 Axes>"
      ]
     },
     "metadata": {
      "needs_background": "light"
     },
     "output_type": "display_data"
    }
   ],
   "source": [
    "plt.plot(df_mean[0],df_mean[1],color=\"red\",linestyle=' ',marker='o')\n"
   ]
  },
  {
   "cell_type": "markdown",
   "metadata": {},
   "source": [
    "### Split data\n",
    "1. using sklearn.model_selection to split your dataset (80% for training)\n",
    "  * you can use numpy for spliting too"
   ]
  },
  {
   "cell_type": "code",
   "execution_count": 39,
   "metadata": {},
   "outputs": [],
   "source": [
    "train, test = train_test_split(df,train_size=0.8)\n"
   ]
  },
  {
   "cell_type": "markdown",
   "metadata": {},
   "source": [
    "### Linear Regression class\n",
    "1. complete **fit** method\n",
    "2. complete **predict** method\n",
    "3. complete **mean squared error (MSE)** method"
   ]
  },
  {
   "cell_type": "code",
   "execution_count": 40,
   "metadata": {},
   "outputs": [],
   "source": [
    "#Task3\n",
    "class Linear_Regression:\n",
    "    def __init__(self):\n",
    "        self.x = None\n",
    "        self.y = None\n",
    "        self.alpha0 = None\n",
    "        self.alpha1 = None\n",
    "        self.coeffients = []\n",
    "        \n",
    "    def fit(self,x,y):\n",
    "        self.x = np.array(x)\n",
    "        self.y = np.array(y)\n",
    "        \n",
    "        self.alpha1 = 0\n",
    "        self.alpha0 = 0\n",
    "        \n",
    "     \n",
    "        x_mean = np.mean(self.x,axis=0)\n",
    "        y_mean = np.mean(self.y,axis=0)\n",
    "        \n",
    "        \n",
    "        numerator = 0\n",
    "        Denominator = 0\n",
    "        for i in range(len(x)):\n",
    "            \n",
    "            numerator += (self.x[i] - x_mean) * (self.y[i]- y_mean)\n",
    "            Denominator += (self.x[i] - x_mean) ** 2\n",
    "        \n",
    "\n",
    "        self.alpha1 = numerator/Denominator\n",
    "        self.alpha0 =  y_mean-self.alpha1*x_mean\n",
    "            \n",
    "        \n",
    "        self.coeffients = [self.alpha0, self.alpha1]\n",
    "        return self\n",
    "    \n",
    "    def predict(self,x):\n",
    "        np_x = np.array(x)\n",
    "        return (np_x * self.alpha1 + self.alpha0)\n",
    "    \n",
    "    def mse(self,x,y):\n",
    "        np_x = np.array(x)\n",
    "        np_y = np.array(y)\n",
    "\n",
    "        error = (np_y - (np_x * self.alpha1 + self.alpha0))\n",
    "        return ( 1/ len(x) ) * np.sum(np.power(error,2))"
   ]
  },
  {
   "cell_type": "code",
   "execution_count": null,
   "metadata": {},
   "outputs": [],
   "source": []
  },
  {
   "cell_type": "code",
   "execution_count": null,
   "metadata": {},
   "outputs": [],
   "source": []
  },
  {
   "cell_type": "code",
   "execution_count": null,
   "metadata": {},
   "outputs": [],
   "source": []
  },
  {
   "cell_type": "markdown",
   "metadata": {},
   "source": [
    "### Use dataset to create sample Linear regression\n",
    "1. create new instance of Linear_Regression class\n",
    "2. import x_train and y_train parts to fit method\n",
    "3. predict new y by using x_test and predict method\n",
    "4. now find how much is your MSE"
   ]
  },
  {
   "cell_type": "code",
   "execution_count": 41,
   "metadata": {},
   "outputs": [
    {
     "data": {
      "text/plain": [
       "0.002257098173291317"
      ]
     },
     "execution_count": 41,
     "metadata": {},
     "output_type": "execute_result"
    }
   ],
   "source": [
    "x_train,y_train = train.iloc[:,0],train.iloc[:,1]\n",
    "LR = Linear_Regression()\n",
    "LR.fit(x_train,y_train)\n",
    "x_test,y_test = test.iloc[:,0],test.iloc[:,1]\n",
    "predict = LR.predict(x_test)\n",
    "LR.mse(x_test,y_test)\n"
   ]
  },
  {
   "cell_type": "code",
   "execution_count": null,
   "metadata": {},
   "outputs": [],
   "source": []
  },
  {
   "cell_type": "markdown",
   "metadata": {},
   "source": [
    "### Plot data and the line\n",
    "1. use scatter plot to plot dataset\n",
    "2. plot regression line with another color"
   ]
  },
  {
   "cell_type": "code",
   "execution_count": 42,
   "metadata": {},
   "outputs": [
    {
     "data": {
      "text/plain": [
       "[<matplotlib.lines.Line2D at 0x272b1ba5e20>]"
      ]
     },
     "execution_count": 42,
     "metadata": {},
     "output_type": "execute_result"
    },
    {
     "data": {
      "image/png": "[encoded data removed]",
      "text/plain": [
       "<Figure size 432x288 with 1 Axes>"
      ]
     },
     "metadata": {
      "needs_background": "light"
     },
     "output_type": "display_data"
    }
   ],
   "source": [
    "plt.plot(df.iloc[:,0],df.iloc[:,1],color=\"blue\",linestyle=' ' , marker='o')\n",
    "plt.plot(x_test,predict,color=\"red\",linestyle='solid')"
   ]
  }
 ],
 "metadata": {
  "kernelspec": {
   "display_name": "Python 3",
   "language": "python",
   "name": "python3"
  },
  "language_info": {
   "codemirror_mode": {
    "name": "ipython",
    "version": 3
   },
   "file_extension": ".py",
   "mimetype": "text/x-python",
   "name": "python",
   "nbconvert_exporter": "python",
   "pygments_lexer": "ipython3",
   "version": "3.8.5"
  }
 },
 "nbformat": 4,
 "nbformat_minor": 5
}
